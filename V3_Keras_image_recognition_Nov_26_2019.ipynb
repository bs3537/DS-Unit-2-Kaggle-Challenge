{
  "nbformat": 4,
  "nbformat_minor": 0,
  "metadata": {
    "colab": {
      "name": "V3_Keras_image recognition_Nov 26_2019.ipynb",
      "provenance": [],
      "collapsed_sections": [],
      "include_colab_link": true
    },
    "kernelspec": {
      "name": "python3",
      "display_name": "Python 3"
    },
    "accelerator": "TPU"
  },
  "cells": [
    {
      "cell_type": "markdown",
      "metadata": {
        "id": "view-in-github",
        "colab_type": "text"
      },
      "source": [
        "<a href=\"https://colab.research.google.com/github/bs3537/DS-Unit-2-Kaggle-Challenge/blob/master/V3_Keras_image_recognition_Nov_26_2019.ipynb\" target=\"_parent\"><img src=\"https://colab.research.google.com/assets/colab-badge.svg\" alt=\"Open In Colab\"/></a>"
      ]
    },
    {
      "cell_type": "code",
      "metadata": {
        "id": "bPaeTpuQUGLi",
        "colab_type": "code",
        "colab": {}
      },
      "source": [
        "import tensorflow\n",
        "print(tensorflow.__version__)"
      ],
      "execution_count": 0,
      "outputs": []
    },
    {
      "cell_type": "code",
      "metadata": {
        "id": "hR0uXMG_Txpj",
        "colab_type": "code",
        "colab": {
          "base_uri": "https://localhost:8080/",
          "height": 35
        },
        "outputId": "d14c33da-ec5d-4b80-d02f-a1f51d1e3722"
      },
      "source": [
        "import pandas as pd\n",
        "import numpy as np \n",
        "import itertools\n",
        "import keras\n",
        "from sklearn import metrics\n",
        "from sklearn.metrics import confusion_matrix\n",
        "from keras.preprocessing.image import ImageDataGenerator, img_to_array, load_img \n",
        "from keras.models import Sequential \n",
        "from keras import optimizers\n",
        "from keras.preprocessing import image\n",
        "from keras.layers import Dropout, Flatten, Dense \n",
        "from keras import applications \n",
        "from keras.utils.np_utils import to_categorical \n",
        "import matplotlib.pyplot as plt \n",
        "import matplotlib.image as mpimg\n",
        "%matplotlib inline\n",
        "import math \n",
        "import datetime\n",
        "import time"
      ],
      "execution_count": 3,
      "outputs": [
        {
          "output_type": "stream",
          "text": [
            "Using TensorFlow backend.\n"
          ],
          "name": "stderr"
        }
      ]
    },
    {
      "cell_type": "code",
      "metadata": {
        "id": "ojHzOla-ZaV5",
        "colab_type": "code",
        "colab": {}
      },
      "source": [
        "%%capture\n",
        "import sys\n",
        "\n",
        "# If you're on Colab:\n",
        "if 'google.colab' in sys.modules:\n",
        "    train_data_dir = '/content/train' \n",
        "    validation_data_dir = '/content/validation'"
      ],
      "execution_count": 0,
      "outputs": []
    },
    {
      "cell_type": "code",
      "metadata": {
        "id": "Ebi4CiL_UIfa",
        "colab_type": "code",
        "colab": {}
      },
      "source": [
        "#Default dimensions we found online\n",
        "img_width, img_height = 224, 224 \n",
        " \n",
        "#Create a bottleneck file\n",
        "top_model_weights_path = 'bottleneck_fc_model.h5'\n",
        "# loading up our datasets\n",
        "\n",
        "test_data_dir = 'data/test'\n",
        " \n",
        "# number of epochs to train top model \n",
        "epochs = 7 #this has been changed after multiple model run \n",
        "# batch size used by flow_from_directory and predict_generator \n",
        "batch_size = 50 "
      ],
      "execution_count": 0,
      "outputs": []
    },
    {
      "cell_type": "code",
      "metadata": {
        "id": "HmuGuJuJWnqH",
        "colab_type": "code",
        "colab": {}
      },
      "source": [
        "#Loading vgc16 model\n",
        "from keras import applications\n",
        "vgg16 = applications.VGG16(include_top=False, weights='imagenet', input_shape=(224,224,3))\n",
        "from keras.preprocessing.image import ImageDataGenerator\n",
        "datagen = ImageDataGenerator(rescale=1. / 255) \n",
        "#needed to create the bottleneck .npy files"
      ],
      "execution_count": 0,
      "outputs": []
    },
    {
      "cell_type": "code",
      "metadata": {
        "id": "PgRuNxCaX5ox",
        "colab_type": "code",
        "colab": {
          "base_uri": "https://localhost:8080/",
          "height": 72
        },
        "outputId": "411d3fd6-8405-4121-cce4-27ee71d55212"
      },
      "source": [
        "#__this can take an hour and half to run so only run it once. \n",
        "#once the npy files have been created, no need to run again. Convert this cell to a code cell to run.__\n",
        "import datetime\n",
        "import numpy as np\n",
        "import math\n",
        "start = datetime.datetime.now()\n",
        " \n",
        "generator = datagen.flow_from_directory( \n",
        "    train_data_dir, \n",
        "    target_size=(img_width, img_height), \n",
        "    batch_size=batch_size, \n",
        "    class_mode=None, \n",
        "    shuffle=False) \n",
        " \n",
        "\n",
        "generator2 = datagen.flow_from_directory( \n",
        "    validation_data_dir, \n",
        "    target_size=(img_width, img_height), \n",
        "    batch_size=batch_size, \n",
        "    class_mode=None, \n",
        "    shuffle=False) \n",
        "nb_train_samples = len(generator.filenames) \n",
        "num_classes = len(generator.class_indices) \n",
        "nb_validation_samples = len(generator2.filenames) \n",
        "num_classes = len(generator.class_indices)  \n",
        "predict_size_train = int(math.ceil(nb_train_samples / batch_size)) \n",
        "predict_size_validation = int(math.ceil(nb_validation_samples / batch_size)) \n",
        "bottleneck_features_train = vgg16.predict_generator(generator, predict_size_train) \n",
        "bottleneck_features_validation = vgg16.predict_generator(generator, predict_size_validation) \n",
        "np.save('bottleneck_features_train.npy', bottleneck_features_train)\n",
        " \n",
        "np.save('bottleneck_features_validation.npy', bottleneck_features_validation)\n",
        "end= datetime.datetime.now()\n",
        "elapsed= end-start\n",
        "print (\"Time: \", elapsed)"
      ],
      "execution_count": 7,
      "outputs": [
        {
          "output_type": "stream",
          "text": [
            "Found 5 images belonging to 2 classes.\n",
            "Found 5 images belonging to 2 classes.\n",
            "Time:  0:00:05.554632\n"
          ],
          "name": "stdout"
        }
      ]
    },
    {
      "cell_type": "code",
      "metadata": {
        "id": "dwtph7kwghIa",
        "colab_type": "code",
        "colab": {
          "base_uri": "https://localhost:8080/",
          "height": 35
        },
        "outputId": "622600d2-cb2d-4a8b-d0dc-7984f96e1e7f"
      },
      "source": [
        "#training data\n",
        "generator_top = datagen.flow_from_directory( \n",
        "   train_data_dir, \n",
        "   target_size=(img_width, img_height), \n",
        "   batch_size=batch_size, \n",
        "   class_mode='categorical', \n",
        "   shuffle=False) \n",
        " \n",
        "nb_train_samples = len(generator_top.filenames) \n",
        "num_classes = len(generator_top.class_indices) \n",
        " \n",
        "# load the bottleneck features saved earlier \n",
        "train_data = np.load('bottleneck_features_train.npy') \n",
        " \n",
        "# get the class labels for the training data, in the original order \n",
        "train_labels = generator_top.classes \n",
        " \n",
        "# convert the training labels to categorical vectors \n",
        "train_labels = to_categorical(train_labels, num_classes=num_classes)"
      ],
      "execution_count": 8,
      "outputs": [
        {
          "output_type": "stream",
          "text": [
            "Found 5 images belonging to 2 classes.\n"
          ],
          "name": "stdout"
        }
      ]
    },
    {
      "cell_type": "code",
      "metadata": {
        "id": "Gn90QoragjwY",
        "colab_type": "code",
        "colab": {
          "base_uri": "https://localhost:8080/",
          "height": 35
        },
        "outputId": "23a657bd-1ca3-4a11-d5c6-d2ce551e2266"
      },
      "source": [
        "#validation data\n",
        "\n",
        "generator_top = datagen.flow_from_directory( \n",
        "   validation_data_dir, \n",
        "   target_size=(img_width, img_height), \n",
        "   batch_size=batch_size, \n",
        "   class_mode='categorical', \n",
        "   shuffle=False) \n",
        " \n",
        "nb_validation_samples = len(generator_top.filenames) \n",
        "num_classes = len(generator_top.class_indices) \n",
        " \n",
        "# load the bottleneck features saved earlier \n",
        "validation_data = np.load('bottleneck_features_validation.npy') \n",
        " \n",
        "# get the class labels for the training data, in the original order \n",
        "validation_labels = generator_top.classes \n",
        " \n",
        "# convert the training labels to categorical vectors \n",
        "validation_labels = to_categorical(validation_labels, num_classes=num_classes)"
      ],
      "execution_count": 9,
      "outputs": [
        {
          "output_type": "stream",
          "text": [
            "Found 5 images belonging to 2 classes.\n"
          ],
          "name": "stdout"
        }
      ]
    },
    {
      "cell_type": "code",
      "metadata": {
        "id": "GoivELBza9mB",
        "colab_type": "code",
        "colab": {
          "base_uri": "https://localhost:8080/",
          "height": 710
        },
        "outputId": "7ec18729-c58a-4cea-c314-d98d087dc6f6"
      },
      "source": [
        "#CNN Model\n",
        "start = datetime.datetime.now()\n",
        "model = Sequential() \n",
        "model.add(Flatten(input_shape=train_data.shape[1:])) \n",
        "model.add(Dense(100, activation=keras.layers.LeakyReLU(alpha=0.3))) \n",
        "model.add(Dropout(0.5)) \n",
        "model.add(Dense(50, activation=keras.layers.LeakyReLU(alpha=0.3))) \n",
        "model.add(Dropout(0.3)) \n",
        "model.add(Dense(num_classes, activation='softmax'))\n",
        "model.compile(loss='categorical_crossentropy',\n",
        "   optimizer=optimizers.RMSprop(lr=1e-4),\n",
        "   metrics=['acc'])\n",
        "history = model.fit(train_data, train_labels, \n",
        "   epochs=7,\n",
        "   batch_size=batch_size, \n",
        "   validation_data=(validation_data, validation_labels))\n",
        "model.save_weights(top_model_weights_path)\n",
        "(eval_loss, eval_accuracy) = model.evaluate( \n",
        "    validation_data, validation_labels, batch_size=batch_size, verbose=1)\n",
        "print(\"[INFO] accuracy: {:.2f}%\".format(eval_accuracy * 100)) \n",
        "print(\"[INFO] Loss: {}\".format(eval_loss)) \n",
        "end= datetime.datetime.now()\n",
        "elapsed= end-start\n",
        "print (\"Time: \", elapsed)"
      ],
      "execution_count": 10,
      "outputs": [
        {
          "output_type": "stream",
          "text": [
            "WARNING:tensorflow:From /usr/local/lib/python3.6/dist-packages/keras/backend/tensorflow_backend.py:148: The name tf.placeholder_with_default is deprecated. Please use tf.compat.v1.placeholder_with_default instead.\n",
            "\n",
            "WARNING:tensorflow:From /usr/local/lib/python3.6/dist-packages/keras/backend/tensorflow_backend.py:3733: calling dropout (from tensorflow.python.ops.nn_ops) with keep_prob is deprecated and will be removed in a future version.\n",
            "Instructions for updating:\n",
            "Please use `rate` instead of `keep_prob`. Rate should be set to `rate = 1 - keep_prob`.\n",
            "WARNING:tensorflow:From /usr/local/lib/python3.6/dist-packages/keras/optimizers.py:793: The name tf.train.Optimizer is deprecated. Please use tf.compat.v1.train.Optimizer instead.\n",
            "\n",
            "WARNING:tensorflow:From /usr/local/lib/python3.6/dist-packages/keras/backend/tensorflow_backend.py:3576: The name tf.log is deprecated. Please use tf.math.log instead.\n",
            "\n"
          ],
          "name": "stdout"
        },
        {
          "output_type": "stream",
          "text": [
            "/usr/local/lib/python3.6/dist-packages/keras/activations.py:235: UserWarning: Do not pass a layer instance (such as LeakyReLU) as the activation argument of another layer. Instead, advanced activation layers should be used just like any other layer in a model.\n",
            "  identifier=identifier.__class__.__name__))\n"
          ],
          "name": "stderr"
        },
        {
          "output_type": "stream",
          "text": [
            "WARNING:tensorflow:From /usr/local/lib/python3.6/dist-packages/tensorflow_core/python/ops/math_grad.py:1424: where (from tensorflow.python.ops.array_ops) is deprecated and will be removed in a future version.\n",
            "Instructions for updating:\n",
            "Use tf.where in 2.0, which has the same broadcast rule as np.where\n",
            "WARNING:tensorflow:From /usr/local/lib/python3.6/dist-packages/keras/backend/tensorflow_backend.py:1033: The name tf.assign_add is deprecated. Please use tf.compat.v1.assign_add instead.\n",
            "\n",
            "WARNING:tensorflow:From /usr/local/lib/python3.6/dist-packages/keras/backend/tensorflow_backend.py:1020: The name tf.assign is deprecated. Please use tf.compat.v1.assign instead.\n",
            "\n",
            "Train on 5 samples, validate on 5 samples\n",
            "Epoch 1/7\n",
            "5/5 [==============================] - 1s 127ms/step - loss: 0.9217 - acc: 0.4000 - val_loss: 4.0755e-04 - val_acc: 1.0000\n",
            "Epoch 2/7\n",
            "5/5 [==============================] - 0s 7ms/step - loss: 0.0075 - acc: 1.0000 - val_loss: 1.3398e-04 - val_acc: 1.0000\n",
            "Epoch 3/7\n",
            "5/5 [==============================] - 0s 7ms/step - loss: 0.0011 - acc: 1.0000 - val_loss: 6.8679e-05 - val_acc: 1.0000\n",
            "Epoch 4/7\n",
            "5/5 [==============================] - 0s 8ms/step - loss: 8.0351e-05 - acc: 1.0000 - val_loss: 5.8033e-05 - val_acc: 1.0000\n",
            "Epoch 5/7\n",
            "5/5 [==============================] - 0s 8ms/step - loss: 5.2484e-04 - acc: 1.0000 - val_loss: 4.4037e-05 - val_acc: 1.0000\n",
            "Epoch 6/7\n",
            "5/5 [==============================] - 0s 7ms/step - loss: 8.5246e-05 - acc: 1.0000 - val_loss: 3.8565e-05 - val_acc: 1.0000\n",
            "Epoch 7/7\n",
            "5/5 [==============================] - 0s 8ms/step - loss: 2.6394e-05 - acc: 1.0000 - val_loss: 3.7480e-05 - val_acc: 1.0000\n",
            "5/5 [==============================] - 0s 995us/step\n",
            "[INFO] accuracy: 100.00%\n",
            "[INFO] Loss: 3.748024391825311e-05\n",
            "Time:  0:00:01.509133\n"
          ],
          "name": "stdout"
        }
      ]
    },
    {
      "cell_type": "code",
      "metadata": {
        "id": "HBkIySpviMmx",
        "colab_type": "code",
        "colab": {
          "base_uri": "https://localhost:8080/",
          "height": 573
        },
        "outputId": "77841a93-1582-4f44-a6b5-dee5f7fd801c"
      },
      "source": [
        "#Graphing our training and validation\n",
        "acc = history.history['acc']\n",
        "val_acc = history.history['val_acc']\n",
        "loss = history.history['loss']\n",
        "val_loss = history.history['val_loss']\n",
        "epochs = range(len(acc))\n",
        "plt.plot(epochs, acc, 'r', label='Training acc')\n",
        "plt.plot(epochs, val_acc, 'b', label='Validation acc')\n",
        "plt.title(\"Training and validation accuracy\")\n",
        "plt.ylabel(\"accuracy\") \n",
        "plt.xlabel(\"epoch\")\n",
        "plt.legend()\n",
        "plt.figure()\n",
        "plt.plot(epochs, loss, 'r', label=\"Training loss\")\n",
        "plt.plot(epochs, val_loss, 'b', label=\"Validation loss\")\n",
        "plt.title(\"Training and validation loss\")\n",
        "plt.ylabel(\"loss\") \n",
        "plt.xlabel(\"epoch\")\n",
        "plt.legend()\n",
        "plt.show()"
      ],
      "execution_count": 11,
      "outputs": [
        {
          "output_type": "display_data",
          "data": {
            "image/png": "[encoded data removed]",
            "text/plain": [
              "<Figure size 432x288 with 1 Axes>"
            ]
          },
          "metadata": {
            "tags": []
          }
        },
        {
          "output_type": "display_data",
          "data": {
            "image/png": "[encoded data removed]",
            "text/plain": [
              "<Figure size 432x288 with 1 Axes>"
            ]
          },
          "metadata": {
            "tags": []
          }
        }
      ]
    }
  ]
}